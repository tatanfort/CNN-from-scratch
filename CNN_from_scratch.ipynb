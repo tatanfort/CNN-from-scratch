{
 "cells": [
  {
   "cell_type": "markdown",
   "metadata": {},
   "source": [
    "# _Test on MNIST_"
   ]
  },
  {
   "cell_type": "code",
   "execution_count": 2,
   "metadata": {},
   "outputs": [],
   "source": [
    "import numpy as np\n",
    "from keras.datasets import mnist\n",
    "from keras.utils import np_utils\n",
    "import pandas as pd\n",
    "import csv\n",
    "import matplotlib.pyplot as plt\n",
    "from progressbar import ProgressBar\n",
    "import matplotlib.pyplot as plt\n",
    "import pickle"
   ]
  },
  {
   "cell_type": "code",
   "execution_count": 3,
   "metadata": {},
   "outputs": [],
   "source": [
    "%run CNN_class.py"
   ]
  },
  {
   "cell_type": "code",
   "execution_count": 4,
   "metadata": {},
   "outputs": [],
   "source": [
    "class Network:\n",
    "    '''\n",
    "    The aim of this class is :\n",
    "    - define the architecture of the neural network\n",
    "    - create a method to simply train it from a training set\n",
    "    - define a method to predict the class of any new image by calling the forward_prop method\n",
    "    \n",
    "    The get_weight and upload_weight might be useful to keep a trace of the state of the network at a certain moment of the training process.\n",
    "    '''\n",
    "    def __init__(self, image_shape, number_class, conv_shape, dense_shape):\n",
    "        self.image_shape = image_shape #[depth,high,width]\n",
    "        self.number_class = number_class\n",
    "        self.conv_shape = conv_shape         #conv_shape is [[kernel_size, layer_size, input_depth] for l in 0:Nl]   \n",
    "        self.dense_shape = dense_shape\n",
    "        self.ce = []\n",
    "        \n",
    "    def net_init(self):\n",
    "        self.Conv1 = ConvLayer(kernel_size = self.conv_shape[0][0], layer_size = self.conv_shape[0][1], input_depth = self.conv_shape[0][2])       \n",
    "        self.fm_shape1 = [self.conv_shape[0][1], self.image_shape[1] - (self.Conv1.kernel_size[0]-1), self.image_shape[1] - (self.Conv1.kernel_size[1]-1)]\n",
    "        self.Relu1 = relu(self.fm_shape1)\n",
    "        self.Maxpool1 = maxpool(poolsize=2)\n",
    "        self.fm_shape2 = [self.fm_shape1[0], self.fm_shape1[1] - (self.Maxpool1.poolsize-1), self.fm_shape1[2] - (self.Maxpool1.poolsize-1)]\n",
    "        \n",
    "        self.Conv2 = ConvLayer(kernel_size = self.conv_shape[1][0], layer_size = self.conv_shape[1][1], input_depth = self.conv_shape[1][2])\n",
    "        self.fm_shape3 = [self.conv_shape[1][1], self.fm_shape2[1] - (self.Conv2.kernel_size[0]-1), self.fm_shape2[2] - (self.Conv2.kernel_size[1]-1)]\n",
    "        self.Relu2 = relu(self.fm_shape3)\n",
    "        \n",
    "        self.Flatten1 = flatten(self.fm_shape3)\n",
    "        \n",
    "        self.Dense1 = Dense(self.dense_shape[0],np.product(self.fm_shape3))\n",
    "        \n",
    "        self.Dense2 = Dense(self.dense_shape[1],self.dense_shape[0])\n",
    "        \n",
    "        self.Dense3 = Dense(self.dense_shape[2],self.dense_shape[1])\n",
    "\n",
    "        self.Softmax = softmaxlayer(self.dense_shape[1])\n",
    "        \n",
    "    def forward_prop(self, image):\n",
    "        output1 = self.Conv1.forward_prop(image)\n",
    "        #print('outputshape1 :' ,output1.shape)\n",
    "        output2 = self.Relu1.forward_prop(output1)\n",
    "        #print('outputshape2 :' ,output2.shape)\n",
    "        output3 = self.Maxpool1.forward_prop(output2)\n",
    "        #print('outputshape3 :' ,output3.shape)\n",
    "        output4 = self.Conv2.forward_prop(output3)\n",
    "        #print('outputshape4 :' ,output4.shape)\n",
    "        output5 = self.Relu2.forward_prop(output4)\n",
    "        #print('outputshape5 :' ,output5.shape)\n",
    "        output6 = self.Flatten1.forward_prop(output5)\n",
    "        #print('outputshape6 :' ,output6.shape)\n",
    "        output7 = self.Dense1.forward_prop(output6)\n",
    "        #print('outputshape7 :' ,output7.shape)\n",
    "        output8 = self.Dense2.forward_prop(output7)\n",
    "        #print('outputshape8 :' ,output8.shape)\n",
    "        output9 = self.Dense3.forward_prop(output8)\n",
    "        #print('outputshape9 :' ,output9.shape)\n",
    "        output10 = self.Softmax.forward_prop(output9)\n",
    "        self.lastoutput = output10 \n",
    "        return None\n",
    "    \n",
    "    def back_prop(self,target,learning_rate = 0.01):\n",
    "        self.ce.append(self.Softmax.cross_entropy(self.lastoutput, target, epsilon = 1e-12))\n",
    "        \n",
    "        self.learning_rate = learning_rate\n",
    "        \n",
    "        output1 = self.Softmax.back_prop(target)\n",
    "        self.output1 = output1\n",
    "        #print(1)\n",
    "        output2 = self.Dense3.back_prop(output1, self.learning_rate)\n",
    "        self.output2 = output2\n",
    "        #print(2)\n",
    "        output3 = self.Dense2.back_prop(output2, self.learning_rate)\n",
    "        self.output3 = output3\n",
    "        #print(3)\n",
    "        output4 = self.Dense1.back_prop(output3,self.learning_rate)\n",
    "        self.output4 = output4\n",
    "        #print(4)\n",
    "        output5 = self.Flatten1.back_prop(output4)\n",
    "        self.output5 = output5\n",
    "        #print(5)\n",
    "        output6 = self.Relu2.back_prop(output5)\n",
    "        self.output6 = output6\n",
    "        #print(6)\n",
    "        output7 = self.Conv2.back_prop(output6,self.learning_rate)\n",
    "        self.output7 = output7\n",
    "        #print(7)\n",
    "        output8 = self.Maxpool1.back_prop(output7)\n",
    "        self.output8 = output8\n",
    "        #print(8)\n",
    "        output9 = self.Relu1.back_prop(output8)\n",
    "        self.output9 = output9\n",
    "        #print(9)\n",
    "        output10 = self.Conv1.back_prop(output9,self.learning_rate)\n",
    "        self.output10 = output10\n",
    "        return None\n",
    "    \n",
    "    def train(self,epochs,X_train,y_train,learning_rate = 0.01):\n",
    "        order = np.array(range(len(X_train)))\n",
    "        np.random.shuffle(order)\n",
    "        self.learning_rate = learning_rate\n",
    "        K = (1/epochs) * np.log(2)\n",
    "        self.success_rate = []\n",
    "        for epoch in range(epochs):\n",
    "            pbar = ProgressBar()\n",
    "            self.predictions = []\n",
    "            self.success_pred = []\n",
    "            learning_rate = self.learning_rate * np.exp(-K*epoch)\n",
    "            for i in pbar(order):\n",
    "                self.forward_prop(X_train[i])\n",
    "                self.predictions.append(np.where(self.lastoutput == np.amax(self.lastoutput))[0][0])\n",
    "                self.back_prop(y_train[i],learning_rate)\n",
    "                self.success_pred.append(self.predictions[-1] == np.where(y_train[i] == 1)[0][0])\n",
    "            self.success_rate.append(np.mean(self.success_pred))\n",
    "            print('The accuracy for this epoch is : ',self.success_rate[-1]*100,'%')\n",
    "        return None\n",
    "        \n",
    "    def get_weights(self):\n",
    "        weights = []\n",
    "        weights.append(self.Conv1.filters)\n",
    "        weights.append(self.Conv2.filters)\n",
    "        weights.append([self.Dense1.weights,self.Dense1.biases])\n",
    "        weights.append([self.Dense2.weights,self.Dense2.biases])\n",
    "        weights.append([self.Dense3.weights,self.Dense3.biases])\n",
    "        return weights\n",
    "    \n",
    "    def upload_weights(self,weights):\n",
    "        self.Conv1.filters = weights[0]\n",
    "        self.Conv2.filters = weights[1]\n",
    "        self.Dense1.weights = weights[2][0]\n",
    "        self.Dense1.biases = weights[2][1]\n",
    "        self.Dense2.weights = weights[3][0]\n",
    "        self.Dense2.biases = weights[3][1]\n",
    "        self.Dense3.weights = weights[4][0]\n",
    "        self.Dense3.biases = weights[4][1]\n",
    "        return None\n",
    "    \n",
    "    def prediction(self, image):\n",
    "        self.forward_prop(image)\n",
    "        output_sm = self.lastoutput\n",
    "        pred = np.where(output_sm == np.amax(output_sm))[0][0]\n",
    "        return pred\n",
    "    \n",
    "    "
   ]
  },
  {
   "cell_type": "markdown",
   "metadata": {},
   "source": [
    "## Network architecture:\n"
   ]
  },
  {
   "cell_type": "markdown",
   "metadata": {},
   "source": [
    "We define the network with the following architecture:\n",
    "- A first Convolution layer with __8 kernels of size 3 by 3__ and a __ReLU__ activation function\n",
    "- A __MaxPool__ layer\n",
    "- A second Convolution layer with __16 kernels of size 3 by 3__ and a __ReLU__ activation function\n",
    "- A __Flatten__ Layer \n",
    "- A first Dense layer with __64 neurons__ with a __ReLU__ activation function\n",
    "- A first Dense layer with __32 neurons__ with a __ReLU__ activation function\n",
    "- A first Dense layer with __10 neurons__ with a __ReLU__ activation function\n",
    "- A __Softmax__ layer"
   ]
  },
  {
   "cell_type": "code",
   "execution_count": 5,
   "metadata": {},
   "outputs": [],
   "source": [
    "conv_shape = [[[3,3],8,1],[[3,3],16,8]]\n",
    "dense_shape = [64,32,10]"
   ]
  },
  {
   "cell_type": "code",
   "execution_count": 6,
   "metadata": {
    "scrolled": true
   },
   "outputs": [],
   "source": [
    "net = Network(image_shape = [1,28,28],number_class = 10,conv_shape = conv_shape, dense_shape= dense_shape)"
   ]
  },
  {
   "cell_type": "code",
   "execution_count": 7,
   "metadata": {},
   "outputs": [],
   "source": [
    "net.net_init()"
   ]
  },
  {
   "cell_type": "code",
   "execution_count": 8,
   "metadata": {},
   "outputs": [],
   "source": [
    "#extraction and preparation of the training and test set from MNIST\n",
    "(X_train, y_train), (X_test, y_test) = mnist.load_data()\n",
    "X_train = X_train[:,np.newaxis,:,:]\n",
    "X_test = X_test[:,np.newaxis,:,:]\n",
    "y_train = np_utils.to_categorical(y_train, 10)\n",
    "y_test = np_utils.to_categorical(y_test, 10)\n",
    "X_train = X_train/255\n",
    "X_test = X_test/255"
   ]
  },
  {
   "cell_type": "code",
   "execution_count": 9,
   "metadata": {},
   "outputs": [
    {
     "data": {
      "image/png": "[encoded data removed]",
      "text/plain": [
       "<Figure size 432x288 with 1 Axes>"
      ]
     },
     "metadata": {
      "needs_background": "light"
     },
     "output_type": "display_data"
    }
   ],
   "source": [
    "#exemple of data from MNIST\n",
    "plt.imshow(X_train[0][0], cmap='gray')\n",
    "plt.show()"
   ]
  },
  {
   "cell_type": "code",
   "execution_count": 10,
   "metadata": {},
   "outputs": [],
   "source": [
    "X_train = X_train[0:400]\n",
    "y_train = y_train[0:400]"
   ]
  },
  {
   "cell_type": "code",
   "execution_count": 12,
   "metadata": {
    "scrolled": true
   },
   "outputs": [
    {
     "name": "stderr",
     "output_type": "stream",
     "text": [
      "100% |########################################################################|\n",
      "  0% |                                                                        |\r"
     ]
    },
    {
     "name": "stdout",
     "output_type": "stream",
     "text": [
      "The accuracy for this epoch is :  32.5 %\n"
     ]
    },
    {
     "name": "stderr",
     "output_type": "stream",
     "text": [
      "100% |########################################################################|\n",
      "  0% |                                                                        |\r"
     ]
    },
    {
     "name": "stdout",
     "output_type": "stream",
     "text": [
      "The accuracy for this epoch is :  55.50000000000001 %\n"
     ]
    },
    {
     "name": "stderr",
     "output_type": "stream",
     "text": [
      "100% |########################################################################|\n",
      "  0% |                                                                        |\r"
     ]
    },
    {
     "name": "stdout",
     "output_type": "stream",
     "text": [
      "The accuracy for this epoch is :  76.0 %\n"
     ]
    },
    {
     "name": "stderr",
     "output_type": "stream",
     "text": [
      "100% |########################################################################|\n",
      "  0% |                                                                        |\r"
     ]
    },
    {
     "name": "stdout",
     "output_type": "stream",
     "text": [
      "The accuracy for this epoch is :  84.0 %\n"
     ]
    },
    {
     "name": "stderr",
     "output_type": "stream",
     "text": [
      "100% |########################################################################|\n",
      "  0% |                                                                        |\r"
     ]
    },
    {
     "name": "stdout",
     "output_type": "stream",
     "text": [
      "The accuracy for this epoch is :  88.5 %\n"
     ]
    },
    {
     "name": "stderr",
     "output_type": "stream",
     "text": [
      "100% |########################################################################|\n",
      "  0% |                                                                        |\r"
     ]
    },
    {
     "name": "stdout",
     "output_type": "stream",
     "text": [
      "The accuracy for this epoch is :  95.5 %\n"
     ]
    },
    {
     "name": "stderr",
     "output_type": "stream",
     "text": [
      "100% |########################################################################|\n",
      "  0% |                                                                        |\r"
     ]
    },
    {
     "name": "stdout",
     "output_type": "stream",
     "text": [
      "The accuracy for this epoch is :  97.5 %\n"
     ]
    },
    {
     "name": "stderr",
     "output_type": "stream",
     "text": [
      "100% |########################################################################|\n",
      "  0% |                                                                        |\r"
     ]
    },
    {
     "name": "stdout",
     "output_type": "stream",
     "text": [
      "The accuracy for this epoch is :  99.0 %\n"
     ]
    },
    {
     "name": "stderr",
     "output_type": "stream",
     "text": [
      "100% |########################################################################|\n",
      "  0% |                                                                        |\r"
     ]
    },
    {
     "name": "stdout",
     "output_type": "stream",
     "text": [
      "The accuracy for this epoch is :  100.0 %\n"
     ]
    },
    {
     "name": "stderr",
     "output_type": "stream",
     "text": [
      "100% |########################################################################|\n",
      "  0% |                                                                        |\r"
     ]
    },
    {
     "name": "stdout",
     "output_type": "stream",
     "text": [
      "The accuracy for this epoch is :  100.0 %\n"
     ]
    },
    {
     "name": "stderr",
     "output_type": "stream",
     "text": [
      "100% |########################################################################|\n",
      "  0% |                                                                        |\r"
     ]
    },
    {
     "name": "stdout",
     "output_type": "stream",
     "text": [
      "The accuracy for this epoch is :  100.0 %\n"
     ]
    },
    {
     "name": "stderr",
     "output_type": "stream",
     "text": [
      "100% |########################################################################|\n",
      "  0% |                                                                        |\r"
     ]
    },
    {
     "name": "stdout",
     "output_type": "stream",
     "text": [
      "The accuracy for this epoch is :  100.0 %\n"
     ]
    },
    {
     "name": "stderr",
     "output_type": "stream",
     "text": [
      "100% |########################################################################|\n",
      "  0% |                                                                        |\r"
     ]
    },
    {
     "name": "stdout",
     "output_type": "stream",
     "text": [
      "The accuracy for this epoch is :  100.0 %\n"
     ]
    },
    {
     "name": "stderr",
     "output_type": "stream",
     "text": [
      "100% |########################################################################|\n",
      "  0% |                                                                        |\r"
     ]
    },
    {
     "name": "stdout",
     "output_type": "stream",
     "text": [
      "The accuracy for this epoch is :  100.0 %\n"
     ]
    },
    {
     "name": "stderr",
     "output_type": "stream",
     "text": [
      "100% |########################################################################|\n",
      "  0% |                                                                        |\r"
     ]
    },
    {
     "name": "stdout",
     "output_type": "stream",
     "text": [
      "The accuracy for this epoch is :  100.0 %\n"
     ]
    },
    {
     "name": "stderr",
     "output_type": "stream",
     "text": [
      "100% |########################################################################|\n",
      "  0% |                                                                        |\r"
     ]
    },
    {
     "name": "stdout",
     "output_type": "stream",
     "text": [
      "The accuracy for this epoch is :  100.0 %\n"
     ]
    },
    {
     "name": "stderr",
     "output_type": "stream",
     "text": [
      "100% |########################################################################|\n",
      "  0% |                                                                        |\r"
     ]
    },
    {
     "name": "stdout",
     "output_type": "stream",
     "text": [
      "The accuracy for this epoch is :  100.0 %\n"
     ]
    },
    {
     "name": "stderr",
     "output_type": "stream",
     "text": [
      "100% |########################################################################|\n",
      "  0% |                                                                        |\r"
     ]
    },
    {
     "name": "stdout",
     "output_type": "stream",
     "text": [
      "The accuracy for this epoch is :  100.0 %\n"
     ]
    },
    {
     "name": "stderr",
     "output_type": "stream",
     "text": [
      "100% |########################################################################|\n",
      "  0% |                                                                        |\r"
     ]
    },
    {
     "name": "stdout",
     "output_type": "stream",
     "text": [
      "The accuracy for this epoch is :  100.0 %\n"
     ]
    },
    {
     "name": "stderr",
     "output_type": "stream",
     "text": [
      "100% |########################################################################|\r"
     ]
    },
    {
     "name": "stdout",
     "output_type": "stream",
     "text": [
      "The accuracy for this epoch is :  100.0 %\n"
     ]
    },
    {
     "name": "stderr",
     "output_type": "stream",
     "text": [
      "\n"
     ]
    }
   ],
   "source": [
    "net.train(20,X_train,y_train)"
   ]
  },
  {
   "cell_type": "code",
   "execution_count": null,
   "metadata": {},
   "outputs": [],
   "source": [
    "#save the weights\n",
    "with open(\"weights.txt\", \"wb\") as fp:\n",
    "    pickle.dump(l, fp)"
   ]
  },
  {
   "cell_type": "code",
   "execution_count": 11,
   "metadata": {},
   "outputs": [],
   "source": [
    "#To upload the weights of the network trained:\n",
    "with open(\"weights.txt\", \"rb\") as fp:\n",
    "    weights = pickle.load(fp)\n",
    "net.upload_weights(weights)"
   ]
  },
  {
   "cell_type": "code",
   "execution_count": 13,
   "metadata": {},
   "outputs": [
    {
     "data": {
      "text/plain": [
       "<function matplotlib.pyplot.show(*args, **kw)>"
      ]
     },
     "execution_count": 13,
     "metadata": {},
     "output_type": "execute_result"
    },
    {
     "data": {
      "image/png": "[encoded data removed]",
      "text/plain": [
       "<Figure size 432x288 with 1 Axes>"
      ]
     },
     "metadata": {
      "needs_background": "light"
     },
     "output_type": "display_data"
    }
   ],
   "source": [
    "plt.plot(range(len(net.success_rate)),net.success_rate)\n",
    "plt.title('Accuracy through epochs')\n",
    "plt.legend(['Accuracy'])\n",
    "plt.show"
   ]
  },
  {
   "cell_type": "markdown",
   "metadata": {},
   "source": [
    "After a training on 20 epochs composed of 400 elements from MNIST, we obtain an accuracy of 100% (The accuracy is actually 100% from the epoch 10, 20 epochs was maybe not necessary).<br>\n",
    "Considering the fact that we didn't use neither dropout layer, nor BatchNormalization, and that we took a small sampel of the whole dataset (in order to get a solution faster) there might be quit some overfitting on the training set. <br>\n",
    "It is thus interesting to see how our network perform on a test set:"
   ]
  },
  {
   "cell_type": "markdown",
   "metadata": {},
   "source": [
    "## Accuracy on a test set"
   ]
  },
  {
   "cell_type": "code",
   "execution_count": 14,
   "metadata": {},
   "outputs": [],
   "source": [
    "X_test = X_test[0:500]\n",
    "y_test = y_test[0:500]"
   ]
  },
  {
   "cell_type": "code",
   "execution_count": 15,
   "metadata": {},
   "outputs": [
    {
     "name": "stderr",
     "output_type": "stream",
     "text": [
      "100% |########################################################################|\r"
     ]
    },
    {
     "name": "stdout",
     "output_type": "stream",
     "text": [
      "The mean accuracy on the test set is :  100.0 %\n"
     ]
    },
    {
     "name": "stderr",
     "output_type": "stream",
     "text": [
      "\n"
     ]
    }
   ],
   "source": [
    "pred_success = []\n",
    "pbar = ProgressBar()\n",
    "for i in pbar(range(500)):\n",
    "    pred_success = net.prediction(X_test[i]) == np.where(y_test[i] == 1)[0][0]\n",
    "print('The mean accuracy on the test set is : ', np.mean(pred_success)*100,'%')"
   ]
  },
  {
   "cell_type": "markdown",
   "metadata": {},
   "source": [
    "The accuracy on the test set is quit good though: none of the 500 images in the test set were misclassified."
   ]
  },
  {
   "cell_type": "markdown",
   "metadata": {},
   "source": [
    "## Possible improvement :"
   ]
  },
  {
   "cell_type": "markdown",
   "metadata": {},
   "source": [
    "- Add BatchNormalization and Dropout layers\n",
    "- Add an optimize such as Adam\n",
    "- work on the whole dataset\n",
    "- save gradients though back propagations in order to add the option to do mini-Batch gradient descent instead of SGD"
   ]
  },
  {
   "cell_type": "code",
   "execution_count": null,
   "metadata": {},
   "outputs": [],
   "source": []
  }
 ],
 "metadata": {
  "kernelspec": {
   "display_name": "Python 3",
   "language": "python",
   "name": "python3"
  },
  "language_info": {
   "codemirror_mode": {
    "name": "ipython",
    "version": 3
   },
   "file_extension": ".py",
   "mimetype": "text/x-python",
   "name": "python",
   "nbconvert_exporter": "python",
   "pygments_lexer": "ipython3",
   "version": "3.7.4"
  }
 },
 "nbformat": 4,
 "nbformat_minor": 2
}
